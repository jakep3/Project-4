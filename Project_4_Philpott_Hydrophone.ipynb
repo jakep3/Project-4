{
  "nbformat": 4,
  "nbformat_minor": 0,
  "metadata": {
    "kernelspec": {
      "display_name": "Python3 OOI",
      "language": "python",
      "name": "ooi"
    },
    "language_info": {
      "codemirror_mode": {
        "name": "ipython",
        "version": 3
      },
      "file_extension": ".py",
      "mimetype": "text/x-python",
      "name": "python",
      "nbconvert_exporter": "python",
      "pygments_lexer": "ipython3",
      "version": "3.6.4"
    },
    "colab": {
      "name": "Project 4 - Philpott Hydrophone ",
      "provenance": [],
      "include_colab_link": true
    }
  },
  "cells": [
    {
      "cell_type": "markdown",
      "metadata": {
        "id": "view-in-github",
        "colab_type": "text"
      },
      "source": [
        "<a href=\"https://colab.research.google.com/github/jakep3/Project-4/blob/master/Project_4_Philpott_Hydrophone.ipynb\" target=\"_parent\"><img src=\"https://colab.research.google.com/assets/colab-badge.svg\" alt=\"Open In Colab\"/></a>"
      ]
    },
    {
      "cell_type": "markdown",
      "metadata": {
        "id": "qscdkjey8LWa",
        "colab_type": "text"
      },
      "source": [
        "# Run This First"
      ]
    },
    {
      "cell_type": "code",
      "metadata": {
        "id": "J2LDMxuEptGH",
        "colab_type": "code",
        "outputId": "fab76924-2027-4897-fc62-43fa8e57aaa6",
        "colab": {
          "base_uri": "https://localhost:8080/",
          "height": 493
        }
      },
      "source": [
        "#You must hit \"restart runtime\", then run the two lines of code below for the first time around. \n",
        "\n",
        "!pip install obspy\n",
        "!pip install --upggrade seaborn == 0.9.0\n",
        "\n",
        "\n",
        "from obspy import read,Stream, Trace\n",
        "from obspy.core import UTCDateTime\n",
        "import numpy as np\n",
        "import matplotlib.pyplot as plt\n",
        "import math as M\n",
        "\n",
        "import matplotlib\n",
        "from matplotlib import mlab\n",
        "from matplotlib.colors import Normalize\n",
        "import requests\n",
        "from lxml import html\n",
        "from scipy import signal\n",
        "import matplotlib.colors as colors\n",
        "import datetime\n",
        "\n",
        "%matplotlib inline\n",
        "\n",
        "from scipy.fftpack import fft\n",
        "\n",
        "\n",
        "\n",
        "\n"
      ],
      "execution_count": 0,
      "outputs": [
        {
          "output_type": "stream",
          "text": [
            "Requirement already satisfied: obspy in /usr/local/lib/python3.6/dist-packages (1.2.1)\n",
            "Requirement already satisfied: sqlalchemy in /usr/local/lib/python3.6/dist-packages (from obspy) (1.3.13)\n",
            "Requirement already satisfied: lxml in /usr/local/lib/python3.6/dist-packages (from obspy) (4.2.6)\n",
            "Requirement already satisfied: matplotlib>=1.1.0 in /usr/local/lib/python3.6/dist-packages (from obspy) (3.1.3)\n",
            "Requirement already satisfied: decorator in /usr/local/lib/python3.6/dist-packages (from obspy) (4.4.1)\n",
            "Requirement already satisfied: numpy>=1.6.1 in /usr/local/lib/python3.6/dist-packages (from obspy) (1.17.5)\n",
            "Requirement already satisfied: scipy>=0.9.0 in /usr/local/lib/python3.6/dist-packages (from obspy) (1.4.1)\n",
            "Requirement already satisfied: future>=0.12.4 in /usr/local/lib/python3.6/dist-packages (from obspy) (0.16.0)\n",
            "Requirement already satisfied: setuptools in /usr/local/lib/python3.6/dist-packages (from obspy) (45.2.0)\n",
            "Requirement already satisfied: requests in /usr/local/lib/python3.6/dist-packages (from obspy) (2.21.0)\n",
            "Requirement already satisfied: kiwisolver>=1.0.1 in /usr/local/lib/python3.6/dist-packages (from matplotlib>=1.1.0->obspy) (1.1.0)\n",
            "Requirement already satisfied: pyparsing!=2.0.4,!=2.1.2,!=2.1.6,>=2.0.1 in /usr/local/lib/python3.6/dist-packages (from matplotlib>=1.1.0->obspy) (2.4.6)\n",
            "Requirement already satisfied: python-dateutil>=2.1 in /usr/local/lib/python3.6/dist-packages (from matplotlib>=1.1.0->obspy) (2.6.1)\n",
            "Requirement already satisfied: cycler>=0.10 in /usr/local/lib/python3.6/dist-packages (from matplotlib>=1.1.0->obspy) (0.10.0)\n",
            "Requirement already satisfied: certifi>=2017.4.17 in /usr/local/lib/python3.6/dist-packages (from requests->obspy) (2019.11.28)\n",
            "Requirement already satisfied: urllib3<1.25,>=1.21.1 in /usr/local/lib/python3.6/dist-packages (from requests->obspy) (1.24.3)\n",
            "Requirement already satisfied: chardet<3.1.0,>=3.0.2 in /usr/local/lib/python3.6/dist-packages (from requests->obspy) (3.0.4)\n",
            "Requirement already satisfied: idna<2.9,>=2.5 in /usr/local/lib/python3.6/dist-packages (from requests->obspy) (2.8)\n",
            "Requirement already satisfied: six>=1.5 in /usr/local/lib/python3.6/dist-packages (from python-dateutil>=2.1->matplotlib>=1.1.0->obspy) (1.12.0)\n",
            "\n",
            "Usage:   \n",
            "  pip3 install [options] <requirement specifier> [package-index-options] ...\n",
            "  pip3 install [options] -r <requirements file> [package-index-options] ...\n",
            "  pip3 install [options] [-e] <vcs project url> ...\n",
            "  pip3 install [options] [-e] <local project path> ...\n",
            "  pip3 install [options] <archive url/path> ...\n",
            "\n",
            "no such option: --upggrade\n"
          ],
          "name": "stdout"
        }
      ]
    },
    {
      "cell_type": "markdown",
      "metadata": {
        "id": "kmkJv1JxtExW",
        "colab_type": "text"
      },
      "source": [
        "# The Assignment"
      ]
    },
    {
      "cell_type": "markdown",
      "metadata": {
        "id": "EZIdsAxk8fVS",
        "colab_type": "text"
      },
      "source": [
        "##Part 1 Wind and Rain Noise"
      ]
    },
    {
      "cell_type": "markdown",
      "metadata": {
        "id": "ueCplzHoRJvo",
        "colab_type": "text"
      },
      "source": [
        "###Oregon Shelf Cabled BEP\n",
        "CE02SHBP Data"
      ]
    },
    {
      "cell_type": "code",
      "metadata": {
        "id": "MZmDy3eh8j9S",
        "colab_type": "code",
        "outputId": "a367dbd1-756f-44f4-be73-15c4929a381b",
        "colab": {
          "base_uri": "https://localhost:8080/",
          "height": 511
        }
      },
      "source": [
        "#identify data for the following (1)-(4) time periods. \n",
        "\n",
        "#(1) not Windy and not Rainy, (2) Windy but not Rainy , (3) Rainy but not Windy, (4) Windy and Rainy\n",
        "data_1_name = print('(shelf) Not windy and not rainy')\n",
        "data_2_name= print('(shelf) Windy but not rainy')\n",
        "data_3_name= print('(shelf) Rainy but not windy')\n",
        "data_4_name = print('(shelf) Windy and rainy')\n",
        "\n",
        "\n",
        "#(1) datetime.datetime(2019, 6, 19, 15, 20, 4, tzinfo=<DstTzInfo 'US/Pacific' PDT-1 day, 17:00:00 DST>)\n",
        "data_url_1 = 'https://rawdata.oceanobservatories.org/files/CE02SHBP/LJ01D/11-HYDBBA106/2019/06/19/OO-HYEA2--YDH-2019-06-19T15:20:00.000015.mseed' \n",
        "\n",
        "#(2) datetime.datetime(2019, 12, 14, 3, 48, 8, tzinfo=<DstTzInfo 'US/Pacific' PST-1 day, 16:00:00 STD>),\n",
        "data_url_2 = 'https://rawdata.oceanobservatories.org/files/CE02SHBP/LJ01D/11-HYDBBA106/2019/12/14/OO-HYEA2--YDH-2019-12-14T03:48:07.738000.mseed'\n",
        "\n",
        "#(3) datetime.datetime(2019, 1, 8, 9, 1, 13, tzinfo=<DstTzInfo 'US/Pacific' PST-1 day, 16:00:00 STD>)\n",
        "data_url_3 = 'https://rawdata.oceanobservatories.org/files/CE02SHBP/LJ01D/11-HYDBBA106/2019/01/08/OO-HYEA2--YDH-2019-01-08T09:00:00.000016.mseed'\n",
        "\n",
        "#(4) datetime.datetime(2019, 1, 6, 13, 1, 13, tzinfo=<DstTzInfo 'US/Pacific' PST-1 day, 16:00:00 STD>)\n",
        "data_url_4 = 'https://rawdata.oceanobservatories.org/files/CE02SHBP/LJ01D/11-HYDBBA106/2019/01/06/OO-HYEA2--YDH-2019-01-06T13:00:00.000015.mseed'\n",
        "\n",
        "\n",
        "#make strings to read the raw hydrophone data in each time period.\n",
        "st1 = read(data_url_1)     # (1) \n",
        "st2 = read(data_url_2)     # (2) \n",
        "st3 = read(data_url_3)     # (3) \n",
        "st4 = read(data_url_4)     # (4) "
      ],
      "execution_count": 0,
      "outputs": [
        {
          "output_type": "stream",
          "text": [
            "(shelf) Not windy and not rainy\n",
            "(shelf) Windy but not rainy\n",
            "(shelf) Rainy but not windy\n",
            "(shelf) Windy and rainy\n"
          ],
          "name": "stdout"
        },
        {
          "output_type": "error",
          "ename": "TypeError",
          "evalue": "ignored",
          "traceback": [
            "\u001b[0;31m---------------------------------------------------------------------------\u001b[0m",
            "\u001b[0;31mTypeError\u001b[0m                                 Traceback (most recent call last)",
            "\u001b[0;32m<ipython-input-2-c8ce2ebb9a3d>\u001b[0m in \u001b[0;36m<module>\u001b[0;34m()\u001b[0m\n\u001b[1;32m     19\u001b[0m \u001b[0;34m\u001b[0m\u001b[0m\n\u001b[1;32m     20\u001b[0m \u001b[0;31m#make strings to read the raw hydrophone data in each time period.\u001b[0m\u001b[0;34m\u001b[0m\u001b[0;34m\u001b[0m\u001b[0;34m\u001b[0m\u001b[0m\n\u001b[0;32m---> 21\u001b[0;31m \u001b[0mst1\u001b[0m \u001b[0;34m=\u001b[0m \u001b[0mread\u001b[0m\u001b[0;34m(\u001b[0m\u001b[0mdata_url_1\u001b[0m\u001b[0;34m)\u001b[0m     \u001b[0;31m# (1)\u001b[0m\u001b[0;34m\u001b[0m\u001b[0;34m\u001b[0m\u001b[0m\n\u001b[0m\u001b[1;32m     22\u001b[0m \u001b[0mst2\u001b[0m \u001b[0;34m=\u001b[0m \u001b[0mread\u001b[0m\u001b[0;34m(\u001b[0m\u001b[0mdata_url_2\u001b[0m\u001b[0;34m)\u001b[0m     \u001b[0;31m# (2)\u001b[0m\u001b[0;34m\u001b[0m\u001b[0;34m\u001b[0m\u001b[0m\n\u001b[1;32m     23\u001b[0m \u001b[0mst3\u001b[0m \u001b[0;34m=\u001b[0m \u001b[0mread\u001b[0m\u001b[0;34m(\u001b[0m\u001b[0mdata_url_3\u001b[0m\u001b[0;34m)\u001b[0m     \u001b[0;31m# (3)\u001b[0m\u001b[0;34m\u001b[0m\u001b[0;34m\u001b[0m\u001b[0m\n",
            "\u001b[0;32m</usr/local/lib/python3.6/dist-packages/decorator.py:decorator-gen-153>\u001b[0m in \u001b[0;36mread\u001b[0;34m(pathname_or_url, format, headonly, starttime, endtime, nearest_sample, dtype, apply_calib, check_compression, **kwargs)\u001b[0m\n",
            "\u001b[0;32m/usr/local/lib/python3.6/dist-packages/obspy/core/util/decorator.py\u001b[0m in \u001b[0;36m_map_example_filename\u001b[0;34m(func, *args, **kwargs)\u001b[0m\n\u001b[1;32m    298\u001b[0m                         \u001b[0;32mexcept\u001b[0m \u001b[0mIOError\u001b[0m\u001b[0;34m:\u001b[0m\u001b[0;34m\u001b[0m\u001b[0;34m\u001b[0m\u001b[0m\n\u001b[1;32m    299\u001b[0m                             \u001b[0;32mpass\u001b[0m\u001b[0;34m\u001b[0m\u001b[0;34m\u001b[0m\u001b[0m\n\u001b[0;32m--> 300\u001b[0;31m         \u001b[0;32mreturn\u001b[0m \u001b[0mfunc\u001b[0m\u001b[0;34m(\u001b[0m\u001b[0;34m*\u001b[0m\u001b[0margs\u001b[0m\u001b[0;34m,\u001b[0m \u001b[0;34m**\u001b[0m\u001b[0mkwargs\u001b[0m\u001b[0;34m)\u001b[0m\u001b[0;34m\u001b[0m\u001b[0;34m\u001b[0m\u001b[0m\n\u001b[0m\u001b[1;32m    301\u001b[0m     \u001b[0;32mreturn\u001b[0m \u001b[0m_map_example_filename\u001b[0m\u001b[0;34m\u001b[0m\u001b[0;34m\u001b[0m\u001b[0m\n\u001b[1;32m    302\u001b[0m \u001b[0;34m\u001b[0m\u001b[0m\n",
            "\u001b[0;32m/usr/local/lib/python3.6/dist-packages/obspy/core/stream.py\u001b[0m in \u001b[0;36mread\u001b[0;34m(pathname_or_url, format, headonly, starttime, endtime, nearest_sample, dtype, apply_calib, check_compression, **kwargs)\u001b[0m\n\u001b[1;32m    210\u001b[0m         \u001b[0mst\u001b[0m \u001b[0;34m=\u001b[0m \u001b[0m_create_example_stream\u001b[0m\u001b[0;34m(\u001b[0m\u001b[0mheadonly\u001b[0m\u001b[0;34m=\u001b[0m\u001b[0mheadonly\u001b[0m\u001b[0;34m)\u001b[0m\u001b[0;34m\u001b[0m\u001b[0;34m\u001b[0m\u001b[0m\n\u001b[1;32m    211\u001b[0m     \u001b[0;32melse\u001b[0m\u001b[0;34m:\u001b[0m\u001b[0;34m\u001b[0m\u001b[0;34m\u001b[0m\u001b[0m\n\u001b[0;32m--> 212\u001b[0;31m         \u001b[0mst\u001b[0m \u001b[0;34m=\u001b[0m \u001b[0m_generic_reader\u001b[0m\u001b[0;34m(\u001b[0m\u001b[0mpathname_or_url\u001b[0m\u001b[0;34m,\u001b[0m \u001b[0m_read\u001b[0m\u001b[0;34m,\u001b[0m \u001b[0;34m**\u001b[0m\u001b[0mkwargs\u001b[0m\u001b[0;34m)\u001b[0m\u001b[0;34m\u001b[0m\u001b[0;34m\u001b[0m\u001b[0m\n\u001b[0m\u001b[1;32m    213\u001b[0m \u001b[0;34m\u001b[0m\u001b[0m\n\u001b[1;32m    214\u001b[0m     \u001b[0;32mif\u001b[0m \u001b[0mlen\u001b[0m\u001b[0;34m(\u001b[0m\u001b[0mst\u001b[0m\u001b[0;34m)\u001b[0m \u001b[0;34m==\u001b[0m \u001b[0;36m0\u001b[0m\u001b[0;34m:\u001b[0m\u001b[0;34m\u001b[0m\u001b[0;34m\u001b[0m\u001b[0m\n",
            "\u001b[0;32m/usr/local/lib/python3.6/dist-packages/obspy/core/util/base.py\u001b[0m in \u001b[0;36m_generic_reader\u001b[0;34m(pathname_or_url, callback_func, **kwargs)\u001b[0m\n\u001b[1;32m    686\u001b[0m         \u001b[0;32mwith\u001b[0m \u001b[0mNamedTemporaryFile\u001b[0m\u001b[0;34m(\u001b[0m\u001b[0msuffix\u001b[0m\u001b[0;34m=\u001b[0m\u001b[0msanitize_filename\u001b[0m\u001b[0;34m(\u001b[0m\u001b[0msuffix\u001b[0m\u001b[0;34m)\u001b[0m\u001b[0;34m)\u001b[0m \u001b[0;32mas\u001b[0m \u001b[0mfh\u001b[0m\u001b[0;34m:\u001b[0m\u001b[0;34m\u001b[0m\u001b[0;34m\u001b[0m\u001b[0m\n\u001b[1;32m    687\u001b[0m             \u001b[0mdownload_to_file\u001b[0m\u001b[0;34m(\u001b[0m\u001b[0murl\u001b[0m\u001b[0;34m=\u001b[0m\u001b[0mpathname_or_url\u001b[0m\u001b[0;34m,\u001b[0m \u001b[0mfilename_or_buffer\u001b[0m\u001b[0;34m=\u001b[0m\u001b[0mfh\u001b[0m\u001b[0;34m)\u001b[0m\u001b[0;34m\u001b[0m\u001b[0;34m\u001b[0m\u001b[0m\n\u001b[0;32m--> 688\u001b[0;31m             \u001b[0mgeneric\u001b[0m \u001b[0;34m=\u001b[0m \u001b[0mcallback_func\u001b[0m\u001b[0;34m(\u001b[0m\u001b[0mfh\u001b[0m\u001b[0;34m.\u001b[0m\u001b[0mname\u001b[0m\u001b[0;34m,\u001b[0m \u001b[0;34m**\u001b[0m\u001b[0mkwargs\u001b[0m\u001b[0;34m)\u001b[0m\u001b[0;34m\u001b[0m\u001b[0;34m\u001b[0m\u001b[0m\n\u001b[0m\u001b[1;32m    689\u001b[0m         \u001b[0;32mreturn\u001b[0m \u001b[0mgeneric\u001b[0m\u001b[0;34m\u001b[0m\u001b[0;34m\u001b[0m\u001b[0m\n\u001b[1;32m    690\u001b[0m     \u001b[0;32melse\u001b[0m\u001b[0;34m:\u001b[0m\u001b[0;34m\u001b[0m\u001b[0;34m\u001b[0m\u001b[0m\n",
            "\u001b[0;32m</usr/local/lib/python3.6/dist-packages/decorator.py:decorator-gen-154>\u001b[0m in \u001b[0;36m_read\u001b[0;34m(filename, format, headonly, **kwargs)\u001b[0m\n",
            "\u001b[0;32m/usr/local/lib/python3.6/dist-packages/obspy/core/util/decorator.py\u001b[0m in \u001b[0;36muncompress_file\u001b[0;34m(func, filename, *args, **kwargs)\u001b[0m\n\u001b[1;32m    208\u001b[0m     \u001b[0;32melse\u001b[0m\u001b[0;34m:\u001b[0m\u001b[0;34m\u001b[0m\u001b[0;34m\u001b[0m\u001b[0m\n\u001b[1;32m    209\u001b[0m         \u001b[0;31m# no compressions\u001b[0m\u001b[0;34m\u001b[0m\u001b[0;34m\u001b[0m\u001b[0;34m\u001b[0m\u001b[0m\n\u001b[0;32m--> 210\u001b[0;31m         \u001b[0mresult\u001b[0m \u001b[0;34m=\u001b[0m \u001b[0mfunc\u001b[0m\u001b[0;34m(\u001b[0m\u001b[0mfilename\u001b[0m\u001b[0;34m,\u001b[0m \u001b[0;34m*\u001b[0m\u001b[0margs\u001b[0m\u001b[0;34m,\u001b[0m \u001b[0;34m**\u001b[0m\u001b[0mkwargs\u001b[0m\u001b[0;34m)\u001b[0m\u001b[0;34m\u001b[0m\u001b[0;34m\u001b[0m\u001b[0m\n\u001b[0m\u001b[1;32m    211\u001b[0m     \u001b[0;32mreturn\u001b[0m \u001b[0mresult\u001b[0m\u001b[0;34m\u001b[0m\u001b[0;34m\u001b[0m\u001b[0m\n\u001b[1;32m    212\u001b[0m \u001b[0;34m\u001b[0m\u001b[0m\n",
            "\u001b[0;32m/usr/local/lib/python3.6/dist-packages/obspy/core/stream.py\u001b[0m in \u001b[0;36m_read\u001b[0;34m(filename, format, headonly, **kwargs)\u001b[0m\n\u001b[1;32m    255\u001b[0m     \"\"\"\n\u001b[1;32m    256\u001b[0m     stream, format = _read_from_plugin('waveform', filename, format=format,\n\u001b[0;32m--> 257\u001b[0;31m                                        headonly=headonly, **kwargs)\n\u001b[0m\u001b[1;32m    258\u001b[0m     \u001b[0;31m# set _format identifier for each element\u001b[0m\u001b[0;34m\u001b[0m\u001b[0;34m\u001b[0m\u001b[0;34m\u001b[0m\u001b[0m\n\u001b[1;32m    259\u001b[0m     \u001b[0;32mfor\u001b[0m \u001b[0mtrace\u001b[0m \u001b[0;32min\u001b[0m \u001b[0mstream\u001b[0m\u001b[0;34m:\u001b[0m\u001b[0;34m\u001b[0m\u001b[0;34m\u001b[0m\u001b[0m\n",
            "\u001b[0;32m/usr/local/lib/python3.6/dist-packages/obspy/core/util/base.py\u001b[0m in \u001b[0;36m_read_from_plugin\u001b[0;34m(plugin_type, filename, format, **kwargs)\u001b[0m\n\u001b[1;32m    447\u001b[0m                 \u001b[0;32mbreak\u001b[0m\u001b[0;34m\u001b[0m\u001b[0;34m\u001b[0m\u001b[0m\n\u001b[1;32m    448\u001b[0m         \u001b[0;32melse\u001b[0m\u001b[0;34m:\u001b[0m\u001b[0;34m\u001b[0m\u001b[0;34m\u001b[0m\u001b[0m\n\u001b[0;32m--> 449\u001b[0;31m             \u001b[0;32mraise\u001b[0m \u001b[0mTypeError\u001b[0m\u001b[0;34m(\u001b[0m\u001b[0;34m'Unknown format for file %s'\u001b[0m \u001b[0;34m%\u001b[0m \u001b[0mfilename\u001b[0m\u001b[0;34m)\u001b[0m\u001b[0;34m\u001b[0m\u001b[0;34m\u001b[0m\u001b[0m\n\u001b[0m\u001b[1;32m    450\u001b[0m     \u001b[0;32melse\u001b[0m\u001b[0;34m:\u001b[0m\u001b[0;34m\u001b[0m\u001b[0;34m\u001b[0m\u001b[0m\n\u001b[1;32m    451\u001b[0m         \u001b[0;31m# format given via argument\u001b[0m\u001b[0;34m\u001b[0m\u001b[0;34m\u001b[0m\u001b[0;34m\u001b[0m\u001b[0m\n",
            "\u001b[0;31mTypeError\u001b[0m: Unknown format for file /tmp/obspy-124zrv00000015.mseed"
          ]
        }
      ]
    },
    {
      "cell_type": "code",
      "metadata": {
        "id": "6GgxlYGoRTik",
        "colab_type": "code",
        "colab": {}
      },
      "source": [
        "#Checking the sampling rates. \n",
        "\n",
        "\n",
        "fs1 = st1[0].stats.sampling_rate\n",
        "\n",
        "#fs2 = st2[0].stats.sampling_rate\n",
        "#fs3 = st3[0].stats.sampling_rate\n",
        "#fs4 = st4[0].stats.sampling_rate\n",
        "\n",
        "#print('Sampling rate of (1) is '+str(fs1)+' Hz.') \n",
        "#print('Sampling rate of (2) is '+str(fs2)+' Hz.') \n",
        "#print('Sampling rate of (3) is '+str(fs3)+' Hz.') \n",
        "#print('Sampling rate of (4) is '+str(fs4)+' Hz.') \n",
        "\n",
        "print('Sampling rate for all is 64000Hz')\n",
        "\n",
        "fs = fs1\n",
        "print(fs)"
      ],
      "execution_count": 0,
      "outputs": []
    },
    {
      "cell_type": "markdown",
      "metadata": {
        "id": "E3FNpQqKRO8k",
        "colab_type": "text"
      },
      "source": [
        "###Oregon Offshore Cabled BEP\n",
        "CE04OSBP Data"
      ]
    },
    {
      "cell_type": "code",
      "metadata": {
        "id": "bhdcynnCRUhb",
        "colab_type": "code",
        "colab": {}
      },
      "source": [
        "#identify data for the following (1)-(4) time periods. \n",
        "\n",
        "#(5) not Windy and not Rainy, (6) Windy but not Rainy , (7) Rainy but not Windy, (8) Windy and Rainy\n",
        "\n",
        "data_5_name = print('(offshore) Not windy and not rainy')\n",
        "data_6_name= print('(offshore) Windy but not rainy')\n",
        "data_7_name = print('(offshore) Rainy but not windy')\n",
        "data_8_name = print('(offshore) Windy and rainy')\n",
        "\n",
        "#(5) datetime.datetime(2019, 3, 2, 9, 4, 20, tzinfo=<DstTzInfo 'US/Pacific' PST-1 day, 16:00:00 STD>\n",
        "data_url_5 = 'https://rawdata.oceanobservatories.org/files/CE04OSBP/LJ01C/11-HYDBBA105/2019/03/02/OO-HYEA1--YDH-2019-03-02T09:00:00.000015.mseed'\n",
        "\n",
        "#(6)  datetime.datetime(2019, 2, 1, 2, 4, 20, tzinfo=<DstTzInfo 'US/Pacific' PST-1 day, 16:00:00 STD>)\n",
        "data_url_6 = 'https://rawdata.oceanobservatories.org/files/CE04OSBP/LJ01C/11-HYDBBA105/2019/02/01/OO-HYEA1--YDH-2019-02-01T02:00:00.000016.mseed'\n",
        "\n",
        "#(7) datetime.datetime(2019, 1, 20, 10, 4, 20, tzinfo=<DstTzInfo 'US/Pacific' PST-1 day, 16:00:00 STD>)\n",
        "data_url_7 = 'https://rawdata.oceanobservatories.org/files/CE04OSBP/LJ01C/11-HYDBBA105/2019/01/20/OO-HYEA1--YDH-2019-01-20T10:00:00.000015.mseed'\n",
        "\n",
        "#(8)  datetime.datetime(2019, 1, 6, 13, 4, 20, tzinfo=<DstTzInfo 'US/Pacific' PST-1 day, 16:00:00 STD>)\n",
        "data_url_8 = 'https://rawdata.oceanobservatories.org/files/CE04OSBP/LJ01C/11-HYDBBA105/2019/01/06/OO-HYEA1--YDH-2019-01-06T13:00:00.000000.mseed'\n",
        "\n",
        "#make strings to read the raw hydrophone data in each time period.\n",
        "\n",
        "st5 = read(data_url_5)     # (5)\n",
        "\n",
        "st6 = read(data_url_6)     # (6)\n",
        "\n",
        "st7 = read(data_url_7)     # (7)\n",
        "\n",
        "st8 = read(data_url_8)     # (8) \n"
      ],
      "execution_count": 0,
      "outputs": []
    },
    {
      "cell_type": "code",
      "metadata": {
        "id": "VYAA276c9yuG",
        "colab_type": "code",
        "colab": {}
      },
      "source": [
        "#checking the sampling rates\n",
        "\n",
        "#fs5 = st5[0].stats.sampling_rate\n",
        "\n",
        "#fs6 = st6[0].stats.sampling_rate\n",
        "#fs7 = st7[0].stats.sampling_rate\n",
        "#fs8 = st8[0].stats.sampling_rate\n",
        "\n",
        "#print('Sampling rate of (5) is '+str(fs5)+' Hz.') \n",
        "#print('Sampling rate of (6) is '+str(fs6)+' Hz.') \n",
        "#print('Sampling rate of (7) is '+str(fs7)+' Hz.') \n",
        "#print('Sampling rate of (8) is '+str(fs8)+' Hz.') \n",
        "\n",
        "print(\"Sampling rate (fs) for all is 64000Hz \")"
      ],
      "execution_count": 0,
      "outputs": []
    },
    {
      "cell_type": "markdown",
      "metadata": {
        "id": "WQ8IdP1DczOJ",
        "colab_type": "text"
      },
      "source": [
        "### Power Spectral Density (PSD) "
      ]
    },
    {
      "cell_type": "markdown",
      "metadata": {
        "id": "wxuehTvYwEaY",
        "colab_type": "text"
      },
      "source": [
        "Function to use for Part I\n",
        "\n",
        "Code from GitHub"
      ]
    },
    {
      "cell_type": "code",
      "metadata": {
        "id": "RGencyWi3Y-c",
        "colab_type": "code",
        "colab": {}
      },
      "source": [
        "#This is making a PSD plotting function which will be used to calculate the PSD and Plot it vs Frequency\n",
        "\n",
        "\n",
        "def psdPlot(st):\n",
        "  psdAvg = 0\n",
        "  psdSum = 0\n",
        "  K=0\n",
        "  for i in range(0,(int(st[0].stats.endtime.timestamp)-int(st[0].stats.starttime.timestamp))):\n",
        "    t_start = st[0].stats.starttime+i\n",
        "    t_end = t_start+1\n",
        "    sliced = st.slice(t_start, t_end)\n",
        "    #sliced.plot()\n",
        "    x = (sliced[0].data)*np.hanning(len(sliced[0].data))\n",
        "    xfft = 2*np.square(fft(x,64000))/(len(x)*fs)\n",
        "    fre = np.linspace(1,fs,64000)\n",
        "    data_db = 10*np.log10(np.abs(xfft))+169-128.9 #This has to be summed together and divided by counter K \n",
        "    psdSum += data_db\n",
        "    K+=1\n",
        "  psdAvg = psdSum/K\n",
        "  fig, host = plt.subplots(figsize=(18,9))\n",
        "  #plt.figure(figsize=(18,9))\n",
        "  host.plot(fre[0:32000], psdAvg[0:32000],label='PSD')\n",
        "\n",
        "  #Pick the max and min frequencies that should be displayed\n",
        "  fmin=0\n",
        "  fmax=15000\n",
        "\n",
        "  #Show average PSD line (not required)\n",
        "  matplotlib.axes.Axes.axhline(self=host,y=psdAvg[fmin:fmax].mean(),xmin=fmin,xmax=fmax,c='red', linestyle = 'dashed') #not required\n",
        "\n",
        "\n",
        "  host.set_title('PSD vs. Frequency')\n",
        "  host.tick_params(gridOn=True)\n",
        "  host.tick_params(axis='x')\n",
        "  host.locator_params(axis='y', nbins=25)\n",
        "  host.locator_params(axis='x', nbins=15)\n",
        "  host.tick_params(axis='both', labelsize=15)  \n",
        "  host.set_xlabel('Frequency (Hz)', fontsize = 20)\n",
        "  host.set_ylabel('PSD (dB^2/Hz)', fontsize = 20)\n",
        "  host.set_xlim(fmin,fmax)\n",
        "  host.set_ylim(psdAvg[fmin:fmax].min()-5,100)"
      ],
      "execution_count": 0,
      "outputs": []
    },
    {
      "cell_type": "code",
      "metadata": {
        "id": "COQXCbeI7aL7",
        "colab_type": "code",
        "colab": {}
      },
      "source": [
        ""
      ],
      "execution_count": 0,
      "outputs": []
    },
    {
      "cell_type": "markdown",
      "metadata": {
        "id": "e0mRdr_h_SV0",
        "colab_type": "text"
      },
      "source": [
        "Plotting PSD vs Frequency for each site "
      ]
    },
    {
      "cell_type": "code",
      "metadata": {
        "id": "eJoXcceX_fLF",
        "colab_type": "code",
        "colab": {}
      },
      "source": [
        "print('(1 shelf)')\n",
        "psdPlot(st1)\n",
        "plt.title('PSD vs. Frequency [Shelf - Not Rainy and Not Windy]', fontsize = 20)"
      ],
      "execution_count": 0,
      "outputs": []
    },
    {
      "cell_type": "code",
      "metadata": {
        "id": "rkmdb8s3_lQl",
        "colab_type": "code",
        "colab": {}
      },
      "source": [
        "print('(2 shelf)')\n",
        "psdPlot(st2)\n",
        "plt.title('PSD vs. Frequency [Shelf - Windy but not Rainy]', fontsize = 20)"
      ],
      "execution_count": 0,
      "outputs": []
    },
    {
      "cell_type": "code",
      "metadata": {
        "id": "0rdAQPQs_ojw",
        "colab_type": "code",
        "colab": {}
      },
      "source": [
        "print('(3 shelf)') \n",
        "psdPlot(st3)\n",
        "plt.title('PSD vs. Frequency [Shelf - Rainy but not Windy]', fontsize = 20)"
      ],
      "execution_count": 0,
      "outputs": []
    },
    {
      "cell_type": "code",
      "metadata": {
        "id": "bqz0hIZS_q31",
        "colab_type": "code",
        "colab": {}
      },
      "source": [
        "print('(4 shelf)')\n",
        "psdPlot(st4)\n",
        "plt.title('PSD vs. Frequency [Shelf - Rainy and Windy]', fontsize = 20)"
      ],
      "execution_count": 0,
      "outputs": []
    },
    {
      "cell_type": "code",
      "metadata": {
        "id": "Idc7spnc_tya",
        "colab_type": "code",
        "colab": {}
      },
      "source": [
        "print('(5 offshore)')\n",
        "psdPlot(st5)\n",
        "plt.title('PSD vs. Frequency [Offshore - not Rainy and not Windy]', fontsize = 20)"
      ],
      "execution_count": 0,
      "outputs": []
    },
    {
      "cell_type": "code",
      "metadata": {
        "id": "ZjyZmVALAB2Z",
        "colab_type": "code",
        "colab": {}
      },
      "source": [
        "print('(6 offshore)')\n",
        "psdPlot(st6)\n",
        "plt.title('PSD vs. Frequency [Offshore - Windy but not Rainy]', fontsize = 20)"
      ],
      "execution_count": 0,
      "outputs": []
    },
    {
      "cell_type": "code",
      "metadata": {
        "id": "HF61zyE-AGaw",
        "colab_type": "code",
        "colab": {}
      },
      "source": [
        "print('(7 offshore)')\n",
        "psdPlot(st7)\n",
        "plt.title('PSD vs. Frequency [Offshore - Rainy but not Windy]', fontsize = 20)"
      ],
      "execution_count": 0,
      "outputs": []
    },
    {
      "cell_type": "code",
      "metadata": {
        "id": "RvDxrw5OAIkT",
        "colab_type": "code",
        "colab": {}
      },
      "source": [
        "print('(8 offshore)') \n",
        "psdPlot(st8)\n",
        "plt.title('PSD vs. Frequency [Offshore - Rainy and Windy]', fontsize = 20)"
      ],
      "execution_count": 0,
      "outputs": []
    },
    {
      "cell_type": "markdown",
      "metadata": {
        "id": "99LHjnV38l2x",
        "colab_type": "text"
      },
      "source": [
        "## Part 2 Airgun, Marine Mammals, Earthquake/Volcano Noise\n",
        "\n",
        "Data can be any time from any location listed in this link : https://oceanobservatories.org/instrument-series/hydbba/"
      ]
    },
    {
      "cell_type": "code",
      "metadata": {
        "id": "V2bzbidi8rgN",
        "colab_type": "code",
        "colab": {}
      },
      "source": [
        "#1 Find short time period that there is a MARINE MAMMAL vocalization in recorded data and plot its spectrogram\n",
        "\n",
        "#use the whale call october 6 2017 (RS01SLBS)\n",
        "\n",
        "Mammal_Data = 'https://rawdata.oceanobservatories.org/files/RS01SLBS/LJ01A/09-HYDBBA102/2017/10/06/OO-HYVM1--YDH-2017-10-06T20:00:00.000015.mseed'\n",
        "stMammal = read(Mammal_Data)\n",
        "\n",
        "#plotting the spectrogram\n",
        "\n",
        "fs = 64000 #Hz\n",
        "st = stMammal\n",
        "t_start = st[0].stats.starttime \n",
        "t_end = st[0].stats.starttime + 30\n",
        "sliced = st.slice(t_start, t_end)\n",
        "\n",
        "npts = len(sliced[0])\n",
        "end = npts / fs\n",
        "nfft = int(fs/16)  # number of fft points of each bin\n",
        "print(nfft)\n",
        "per_lap = 0.90      # percentage of overlap\n",
        "nlap = int(nfft * float(per_lap))   # number of overlapped samples\n",
        "\n",
        "# using mlab to create the array of spectrogram \n",
        "specgram, freq, time = mlab.specgram(sliced[0].data,NFFT = nfft,Fs = fs,noverlap = nlap, pad_to = None)\n",
        "specgram = 10 * np.log10(specgram) +169-128.9\n",
        "plt.contourf(time,freq,specgram,30,vmin=0, vmax=120)\n",
        "plt.xlabel('time (s)')\n",
        "plt.ylabel('freq (Hz)')\n",
        "plt.title('(Mammal) - Freq vs Time')\n",
        "plt.colorbar()\n",
        "plt.ylim(0,5000)"
      ],
      "execution_count": 0,
      "outputs": []
    },
    {
      "cell_type": "code",
      "metadata": {
        "id": "yCPXzLXD86HV",
        "colab_type": "code",
        "outputId": "5de64ad6-a35e-433a-a212-dbfa7f60e3f3",
        "colab": {
          "base_uri": "https://localhost:8080/",
          "height": 329
        }
      },
      "source": [
        "#2 Find a short time period that there is an AIRGUN in recorded data and plot its spectrogram\n",
        "\n",
        "#use Axial Seabase August 1 2019 (RS03AXBS)\n",
        "\n",
        "Airgun_Data = 'https://rawdata.oceanobservatories.org/files/RS03AXBS/LJ03A/09-HYDBBA302/2019/08/01/OO-AXVM1--YDH-2019-08-01T00:00:00.000015.mseed'\n",
        "stAirgun = read(Airgun_Data)\n",
        "\n",
        "\n",
        "#Plotting the spectrogram \n",
        "\n",
        "fs = 64000\n",
        "st = stAirgun\n",
        "t_start = st[0].stats.starttime \n",
        "t_end = st[0].stats.starttime + 50 \n",
        "sliced = st.slice(t_start, t_end)\n",
        "\n",
        "npts = len(sliced[0])\n",
        "end = npts / fs\n",
        "nfft = int(fs/16)  # number of fft points of each bin\n",
        "print(nfft)\n",
        "per_lap = 0.90      # percentage of overlap\n",
        "nlap = int(nfft * float(per_lap))   # number of overlapped samples\n",
        "\n",
        "# using mlab to create the array of spectrogram \n",
        "specgram, freq, time = mlab.specgram(sliced[0].data,NFFT = nfft,Fs = fs,noverlap = nlap, pad_to = None)\n",
        "specgram = 10 * np.log10(specgram) +169-128.9\n",
        "plt.contourf(time,freq,specgram,30,vmin=0, vmax=120)\n",
        "plt.xlabel('time (s)')\n",
        "plt.ylabel('freq (Hz)')\n",
        "plt.title('(Airgun) - Freq vs Time')\n",
        "plt.colorbar()\n",
        "plt.ylim(0,14000)"
      ],
      "execution_count": 0,
      "outputs": [
        {
          "output_type": "stream",
          "text": [
            "4000\n"
          ],
          "name": "stdout"
        },
        {
          "output_type": "execute_result",
          "data": {
            "text/plain": [
              "(0, 14000)"
            ]
          },
          "metadata": {
            "tags": []
          },
          "execution_count": 4
        },
        {
          "output_type": "display_data",
          "data": {
            "image/png": "[encoded data removed]",
            "text/plain": [
              "<Figure size 432x288 with 2 Axes>"
            ]
          },
          "metadata": {
            "tags": []
          }
        }
      ]
    },
    {
      "cell_type": "code",
      "metadata": {
        "id": "cmoWSxIl9A2v",
        "colab_type": "code",
        "colab": {}
      },
      "source": [
        "#3 Find a short time period that there is an earthquake or a volcano eruption in recorded data and plot its spectrogram\n",
        " \n",
        " #Axial seamount earthquake (CE04OSBP)\n",
        "\n",
        "EV_Data = 'https://rawdata.oceanobservatories.org/files/CE04OSBP/LJ01C/11-HYDBBA105/2017/04/15/OO-HYEA1--YDH-2017-04-15T14:45:00.000000.mseed' \n",
        "\n",
        "stEV = read(EV_Data)\n",
        "\n",
        "\n",
        "#Plotting the spectrogram\n",
        "\n",
        "fs = 64000\n",
        "st = stEV\n",
        "t_start = st[0].stats.starttime +180\n",
        "t_end = st[0].stats.starttime + 280 \n",
        "sliced = st.slice(t_start, t_end)\n",
        "\n",
        "npts = len(sliced[0])\n",
        "end = npts / fs\n",
        "nfft = int(fs/16)  # number of fft points of each bin\n",
        "print(nfft)\n",
        "per_lap = 0.90      # percentage of overlap\n",
        "nlap = int(nfft * float(per_lap))   # number of overlapped samples\n",
        "\n",
        "# using mlab to create the array of spectrogram \n",
        "specgram, freq, time = mlab.specgram(sliced[0].data,NFFT = nfft,Fs = fs,noverlap = nlap, pad_to = None)\n",
        "specgram = 10 * np.log10(specgram) +169-128.9\n",
        "plt.contourf(time,freq,specgram,30,vmin=0, vmax=120)\n",
        "plt.xlabel('time (s)')\n",
        "plt.ylabel('freq (Hz)')\n",
        "plt.title('(Earthquake/Volcano) - Freq vs Time')\n",
        "plt.colorbar()\n",
        "plt.ylim(0,150)\n"
      ],
      "execution_count": 0,
      "outputs": []
    },
    {
      "cell_type": "code",
      "metadata": {
        "id": "HzBi79b19EWQ",
        "colab_type": "code",
        "colab": {}
      },
      "source": [
        "#4 Compare the bandwidth of these three signals (1 point). Are they consistent with what is shown in the Wenz curve (refer to the Ocean Noise slides)?\n",
        "\n",
        "#this will be answered in the report. "
      ],
      "execution_count": 0,
      "outputs": []
    }
  ]
}